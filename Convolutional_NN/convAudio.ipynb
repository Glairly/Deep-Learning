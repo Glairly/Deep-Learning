{
 "cells": [
  {
   "cell_type": "code",
   "execution_count": 1,
   "metadata": {},
   "outputs": [],
   "source": [
    "import torch\n",
    "import torchvision\n",
    "import torch.optim as optim\n",
    "import torch.nn as nn\n",
    "import torch.nn.functional as F\n",
    "import os\n",
    "from torchvision import transforms ,datasets\n",
    "\n",
    "import helper\n",
    "import waveLoader as wl\n",
    "import importlib\n",
    "importlib.reload(helper)\n",
    "\n",
    "import matplotlib.pyplot as plt\n",
    "from tqdm import tqdm\n",
    "\n",
    " "
   ]
  },
  {
   "cell_type": "code",
   "execution_count": 2,
   "metadata": {},
   "outputs": [
    {
     "name": "stdout",
     "output_type": "stream",
     "text": [
      "Running on the GPU\n"
     ]
    }
   ],
   "source": [
    "if torch.cuda.is_available():\n",
    "    device = torch.device(\"cuda:0\")  # you can continue going on here, like cuda:1 cuda:2....etc. \n",
    "    print(\"Running on the GPU\")\n",
    "else:\n",
    "    device = torch.device(\"cpu\")\n",
    "    print(\"Running on the CPU\")"
   ]
  },
  {
   "cell_type": "code",
   "execution_count": 3,
   "metadata": {},
   "outputs": [],
   "source": [
    "class Net(nn.Module):\n",
    "    input_size = 100\n",
    "    \n",
    "    def __init__(self):\n",
    "        super().__init__()\n",
    "            # fc = fully connected\n",
    "        self.conv1 = nn.Conv2d(1,6, 5).cuda()\n",
    "        self.conv2 = nn.Conv2d(6, 16, 5).cuda()\n",
    "        self.pool = nn.MaxPool2d(2,2).cuda()\n",
    "        \n",
    "        self.fc1 = nn.Linear(1,120).cuda()\n",
    "        self.fc2 = nn.Linear(120,84).cuda()\n",
    "        self.out = nn.Linear(84,2).cuda()\n",
    "        \n",
    "    def convs(self,x):\n",
    "#         print(x.size()[0])\n",
    "        batch_size = x.size()[0]\n",
    "        x = x.view(batch_size,1,self.input_size,self.input_size)\n",
    "        x = self.pool(F.relu(self.conv1(x)))\n",
    "        x = self.pool(F.relu(self.conv2(x)))\n",
    "#         print(x.size())\n",
    "        size = x.size()[1] * x.size()[2] * x.size()[3]\n",
    "#         print(size)\n",
    "        x = x.view(batch_size,size)\n",
    "        self.fc1 = nn.Linear(size,120).cuda()\n",
    "        return x\n",
    "               \n",
    "    def dense(self,x):\n",
    "        \n",
    "        x = F.relu(self.fc1(x))\n",
    "        x = F.relu(self.fc2(x))\n",
    "        x = self.out(x)\n",
    "        return x\n",
    "    \n",
    "    def forward(self,x,input_size = 100):\n",
    "        self.input_size = input_size\n",
    "        x = self.convs(x)\n",
    "        x = self.dense(x)\n",
    "        \n",
    "        return x    "
   ]
  },
  {
   "cell_type": "code",
   "execution_count": 4,
   "metadata": {},
   "outputs": [],
   "source": [
    "import math\n",
    "class Audio():\n",
    "    path = \"data/Audio/train/\"\n",
    "    pathT = \"data/Audio/train/\"\n",
    "    sub  = {\"cats\":0,\"dogs\":1}\n",
    "    trainset = []\n",
    "    testset = []\n",
    "    batch_size = 4\n",
    "    input_size = 300\n",
    "    \n",
    "    def __init__(self):\n",
    "        self.net = Net().to(device)\n",
    "        return\n",
    "    \n",
    "    def compress(self,x,size = 100):\n",
    "        arrSize = x.size()[0]\n",
    "        comSize = int(math.ceil(arrSize/(size**2)))\n",
    "        ind = 0\n",
    "        compressed = []\n",
    "        while(ind < arrSize):\n",
    "            z = x[ind:ind+comSize].sum()/comSize\n",
    "            compressed.append(z)\n",
    "            ind+=comSize\n",
    "         \n",
    "        if (len(compressed) > size**2):\n",
    "            compressed = compressed[:size**2]\n",
    "        elif (len(compressed) < size**2):\n",
    "             for i in range((size**2)-len(compressed)):\n",
    "                compressed.append(0)\n",
    "                \n",
    "        compressed = torch.FloatTensor(compressed)\n",
    "        return compressed.view(-1,size),compressed\n",
    "    \n",
    "    def cut(self,x,size = 100):\n",
    "        if(size%2 != 0):\n",
    "            raise Exception(\"Invalid Size, Must be even size\")\n",
    "        _size = size\n",
    "        self.input_size = size\n",
    "        size = size**2 \n",
    "        x_size = x.size()[0]\n",
    "        compressed = []\n",
    "        half = size/2\n",
    "        half_x = x_size/2\n",
    "        while(half_x + half > x_size and half_x >= 0 ):\n",
    "           # print(half_x + half)\n",
    "            half_x -= 1\n",
    "        \n",
    "        if (half_x == -1 or half_x - half < 0):\n",
    "            raise Exception(\"Input out of Bound, Input Size cannot be cut \",x_size/2,half)\n",
    "            \n",
    "        left = int(half_x - half)\n",
    "        right = int(half_x + half)\n",
    "#         print(left,right,x)\n",
    "        compressed = x[left:right].tolist()\n",
    "        compressed = torch.FloatTensor(compressed)\n",
    "#         print(compressed.size())\n",
    "        return compressed.view(-1,_size),compressed\n",
    "    \n",
    "    def loadData(self,cut = 300):\n",
    "        for label in self.sub:\n",
    "            root = self.path+str(label)\n",
    "            for i in tqdm(os.listdir(root)):\n",
    "                try:\n",
    "                    path = root+\"/\"+str(i)\n",
    "                    frame,framerate = wl.readwavefile(path)\n",
    "                    frame = torch.from_numpy(frame)\n",
    "#                     print(frame)\n",
    "#                     plt.plot(frame)\n",
    "#                     plt.show()\n",
    "#                     print(len(frame))\n",
    "    #                 frame,_ = self.compress(frame,50)\n",
    "                    frame,_ = self.cut(frame,cut)\n",
    "#                     plt.plot(_)\n",
    "#                     plt.show()\n",
    "\n",
    "#                     print(frame.size())\n",
    "\n",
    "                    self.trainset.append((frame,self.sub[str(label)]))\n",
    "                except :\n",
    "                    pass\n",
    "        \n",
    "        self.trainset = torch.utils.data.DataLoader(self.trainset, \n",
    "                                       batch_size=self.batch_size,\n",
    "                                       shuffle=True,num_workers=2)\n",
    "        torch.save(self.trainset,\"temp/audio.pt\")\n",
    "    \n",
    "    def loadTest(self,cut = 300):\n",
    "        for label in self.sub:\n",
    "            root = self.pathT+str(label)\n",
    "            for i in tqdm(os.listdir(root)):\n",
    "                try:\n",
    "                    path = root+\"/\"+str(i)\n",
    "                    frame,framerate = wl.readwavefile(path)\n",
    "                    frame = torch.from_numpy(frame)\n",
    "#                     print(frame)\n",
    "#                     plt.plot(frame)\n",
    "#                     plt.show()\n",
    "#                     print(len(frame))\n",
    "    #                 frame,_ = self.compress(frame,50)\n",
    "                    frame,_ = self.cut(frame,cut)\n",
    "#                     plt.plot(_)\n",
    "#                     plt.show()\n",
    "\n",
    "#                     print(frame.size())\n",
    "\n",
    "                    self.testset.append((frame,self.sub[str(label)]))\n",
    "                except :\n",
    "                    pass\n",
    "        \n",
    "        self.testset = torch.utils.data.DataLoader(self.testset, \n",
    "                                       batch_size=self.batch_size,\n",
    "                                       shuffle=True,num_workers=2)\n",
    "        torch.save(self.testset,\"temp/audio_test.pt\")\n",
    "    \n",
    "    def load(self,path):\n",
    "        self.trainset = torch.load(path)\n",
    "    \n",
    "    def loadT(self,path):\n",
    "        self.testset = torch.load(path)\n",
    "    \n",
    "    def train(self,epochs=3):\n",
    "        \n",
    "        criterion = nn.CrossEntropyLoss()\n",
    "        optimizer = optim.SGD(self.net.parameters(), lr=0.001, momentum=0.9)\n",
    "        trainset = self.trainset \n",
    "        for epoch in tqdm(range(epochs)):\n",
    "            for data in self.trainset :\n",
    "#                 try:\n",
    "                    x,y = data\n",
    "                    x,y = x.to(device),y.to(device)\n",
    "                    self.net.zero_grad() \n",
    "                    output = self.net.forward(x,input_size = self.input_size)\n",
    "                    loss = criterion(output, y)\n",
    "                    loss.backward()\n",
    "                    optimizer.step()\n",
    "#                 except Exception as e:\n",
    "#                     print(e)\n",
    "#                     break\n",
    "                \n",
    "            print(loss)\n",
    "            self.test(self.trainset)\n",
    "        \n",
    " \n",
    " \n",
    "    def test(self,x): # test\n",
    "        correct = 0\n",
    "        total = 0\n",
    "        trainset = x\n",
    "        co = 0\n",
    "        with torch.no_grad():\n",
    "            for data in trainset:\n",
    "                co+=1\n",
    "                if(co == 20): \n",
    "                    break\n",
    "                x,y = data\n",
    "                x,y = x.to(device),y.to(device)\n",
    "               # print(\"input\",x.size())\n",
    "                output = self.net.forward(x,input_size = self.input_size)\n",
    "               # print(output,y)\n",
    "                for idx,i in enumerate(output):\n",
    "                    if torch.argmax(i) == y[idx]:\n",
    "                        correct += 1\n",
    "                    total += 1\n",
    "        print(\"Accuracy : \",round(correct/total,3)*100,\"%\")\n",
    "        return 0\n",
    "        "
   ]
  },
  {
   "cell_type": "code",
   "execution_count": 5,
   "metadata": {},
   "outputs": [
    {
     "name": "stderr",
     "output_type": "stream",
     "text": [
      "100%|███████████████████████████████████████████████████████████████████████████████| 125/125 [00:00<00:00, 141.06it/s]\n",
      "100%|█████████████████████████████████████████████████████████████████████████████████| 85/85 [00:00<00:00, 200.45it/s]\n"
     ]
    }
   ],
   "source": [
    "aud = Audio()\n",
    "aud.loadData(cut = 400)"
   ]
  },
  {
   "cell_type": "code",
   "execution_count": 6,
   "metadata": {},
   "outputs": [],
   "source": [
    "aud.load(\"temp/audio.pt\")"
   ]
  },
  {
   "cell_type": "code",
   "execution_count": 7,
   "metadata": {},
   "outputs": [
    {
     "name": "stderr",
     "output_type": "stream",
     "text": [
      "  0%|                                                                                           | 0/10 [00:00<?, ?it/s]"
     ]
    },
    {
     "name": "stdout",
     "output_type": "stream",
     "text": [
      "tensor(0.6635, device='cuda:0', grad_fn=<NllLossBackward>)\n"
     ]
    },
    {
     "name": "stderr",
     "output_type": "stream",
     "text": [
      " 10%|████████▎                                                                          | 1/10 [00:08<01:18,  8.68s/it]"
     ]
    },
    {
     "name": "stdout",
     "output_type": "stream",
     "text": [
      "Accuracy :  81.6 %\n",
      "tensor(0.6502, device='cuda:0', grad_fn=<NllLossBackward>)\n"
     ]
    },
    {
     "name": "stderr",
     "output_type": "stream",
     "text": [
      " 20%|████████████████▌                                                                  | 2/10 [00:15<01:05,  8.15s/it]"
     ]
    },
    {
     "name": "stdout",
     "output_type": "stream",
     "text": [
      "Accuracy :  84.2 %\n",
      "tensor(0.4803, device='cuda:0', grad_fn=<NllLossBackward>)\n"
     ]
    },
    {
     "name": "stderr",
     "output_type": "stream",
     "text": [
      " 30%|████████████████████████▉                                                          | 3/10 [00:23<00:56,  8.05s/it]"
     ]
    },
    {
     "name": "stdout",
     "output_type": "stream",
     "text": [
      "Accuracy :  82.89999999999999 %\n",
      "tensor(0.6383, device='cuda:0', grad_fn=<NllLossBackward>)\n"
     ]
    },
    {
     "name": "stderr",
     "output_type": "stream",
     "text": [
      " 40%|█████████████████████████████████▏                                                 | 4/10 [00:31<00:47,  7.94s/it]"
     ]
    },
    {
     "name": "stdout",
     "output_type": "stream",
     "text": [
      "Accuracy :  82.89999999999999 %\n",
      "tensor(0.6377, device='cuda:0', grad_fn=<NllLossBackward>)\n"
     ]
    },
    {
     "name": "stderr",
     "output_type": "stream",
     "text": [
      " 50%|█████████████████████████████████████████▌                                         | 5/10 [00:38<00:39,  7.89s/it]"
     ]
    },
    {
     "name": "stdout",
     "output_type": "stream",
     "text": [
      "Accuracy :  82.89999999999999 %\n",
      "tensor(0.3764, device='cuda:0', grad_fn=<NllLossBackward>)\n"
     ]
    },
    {
     "name": "stderr",
     "output_type": "stream",
     "text": [
      " 60%|█████████████████████████████████████████████████▊                                 | 6/10 [00:46<00:30,  7.67s/it]"
     ]
    },
    {
     "name": "stdout",
     "output_type": "stream",
     "text": [
      "Accuracy :  84.2 %\n",
      "tensor(0.6398, device='cuda:0', grad_fn=<NllLossBackward>)\n"
     ]
    },
    {
     "name": "stderr",
     "output_type": "stream",
     "text": [
      " 70%|██████████████████████████████████████████████████████████                         | 7/10 [00:53<00:22,  7.51s/it]"
     ]
    },
    {
     "name": "stdout",
     "output_type": "stream",
     "text": [
      "Accuracy :  81.6 %\n",
      "tensor(0.3342, device='cuda:0', grad_fn=<NllLossBackward>)\n"
     ]
    },
    {
     "name": "stderr",
     "output_type": "stream",
     "text": [
      " 80%|██████████████████████████████████████████████████████████████████▍                | 8/10 [01:00<00:14,  7.39s/it]"
     ]
    },
    {
     "name": "stdout",
     "output_type": "stream",
     "text": [
      "Accuracy :  84.2 %\n",
      "tensor(0.9831, device='cuda:0', grad_fn=<NllLossBackward>)\n"
     ]
    },
    {
     "name": "stderr",
     "output_type": "stream",
     "text": [
      " 90%|██████████████████████████████████████████████████████████████████████████▋        | 9/10 [01:07<00:07,  7.41s/it]"
     ]
    },
    {
     "name": "stdout",
     "output_type": "stream",
     "text": [
      "Accuracy :  84.2 %\n",
      "tensor(0.2989, device='cuda:0', grad_fn=<NllLossBackward>)\n"
     ]
    },
    {
     "name": "stderr",
     "output_type": "stream",
     "text": [
      "100%|██████████████████████████████████████████████████████████████████████████████████| 10/10 [01:15<00:00,  7.53s/it]"
     ]
    },
    {
     "name": "stdout",
     "output_type": "stream",
     "text": [
      "Accuracy :  82.89999999999999 %\n"
     ]
    },
    {
     "name": "stderr",
     "output_type": "stream",
     "text": [
      "\n"
     ]
    }
   ],
   "source": [
    "aud.train(epochs = 10)"
   ]
  },
  {
   "cell_type": "code",
   "execution_count": 8,
   "metadata": {},
   "outputs": [
    {
     "name": "stderr",
     "output_type": "stream",
     "text": [
      "100%|███████████████████████████████████████████████████████████████████████████████| 125/125 [00:00<00:00, 275.43it/s]\n",
      "100%|█████████████████████████████████████████████████████████████████████████████████| 85/85 [00:00<00:00, 333.41it/s]\n"
     ]
    }
   ],
   "source": [
    "aud.loadTest()   "
   ]
  },
  {
   "cell_type": "code",
   "execution_count": 9,
   "metadata": {},
   "outputs": [
    {
     "name": "stdout",
     "output_type": "stream",
     "text": [
      "Accuracy :  72.39999999999999 %\n"
     ]
    },
    {
     "data": {
      "text/plain": [
       "0"
      ]
     },
     "execution_count": 9,
     "metadata": {},
     "output_type": "execute_result"
    }
   ],
   "source": [
    "aud.loadT(\"temp/audio_test.pt\")\n",
    "aud.test(aud.testset)"
   ]
  },
  {
   "cell_type": "code",
   "execution_count": null,
   "metadata": {},
   "outputs": [],
   "source": []
  }
 ],
 "metadata": {
  "kernelspec": {
   "display_name": "Tensorflow-GPU2",
   "language": "python",
   "name": "tf"
  },
  "language_info": {
   "codemirror_mode": {
    "name": "ipython",
    "version": 3
   },
   "file_extension": ".py",
   "mimetype": "text/x-python",
   "name": "python",
   "nbconvert_exporter": "python",
   "pygments_lexer": "ipython3",
   "version": "3.7.6"
  }
 },
 "nbformat": 4,
 "nbformat_minor": 4
}
