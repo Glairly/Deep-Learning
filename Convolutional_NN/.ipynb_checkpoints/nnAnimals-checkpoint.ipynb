{
 "cells": [
  {
   "cell_type": "code",
   "execution_count": 5,
   "metadata": {},
   "outputs": [
    {
     "data": {
      "text/plain": [
       "<module 'helper' from 'C:\\\\Users\\\\USER\\\\Desktop\\\\pyTorch\\\\helper.py'>"
      ]
     },
     "execution_count": 5,
     "metadata": {},
     "output_type": "execute_result"
    }
   ],
   "source": [
    "import torch\n",
    "import torchvision\n",
    "from torchvision import transforms ,datasets\n",
    "import helper\n",
    "import importlib\n",
    "importlib.reload(helper)"
   ]
  },
  {
   "cell_type": "code",
   "execution_count": 12,
   "metadata": {},
   "outputs": [
    {
     "name": "stdout",
     "output_type": "stream",
     "text": [
      "Running on the GPU\n"
     ]
    }
   ],
   "source": [
    "import matplotlib.pyplot as plt\n",
    "import torch.optim as optim\n",
    "import torch.nn as nn\n",
    "import torch.nn.functional as F\n",
    "from tqdm import tqdm\n",
    "\n",
    "if torch.cuda.is_available():\n",
    "    device = torch.device(\"cuda:0\")  # you can continue going on here, like cuda:1 cuda:2....etc. \n",
    "    print(\"Running on the GPU\")\n",
    "else:\n",
    "    device = torch.device(\"cpu\")\n",
    "    print(\"Running on the CPU\")\n",
    "\n",
    "\n",
    "class animals():\n",
    "    path = \"data\"\n",
    "    dataset = []\n",
    "    trainset = []\n",
    "    transform = transforms.Compose([\n",
    "#                                  transforms.Grayscale(),\n",
    "                                transforms.Resize((28,28)),\n",
    "                                transforms.ToTensor(),\n",
    "                                   ])\n",
    "    class Net(nn.Module):\n",
    "    \n",
    "        def __init__(self):\n",
    "            super().__init__()\n",
    "            # fc = fully connected\n",
    "            self.conv1 = nn.Conv2d(3,6, 3).cuda()\n",
    "            self.conv2 = nn.Conv2d(6, 16, 3).cuda()\n",
    "        \n",
    "            self.pool = nn.MaxPool2d(2, 2).cuda()\n",
    "            \n",
    "            self.fc1 = nn.Linear(16*5*5, 128) .cuda()\n",
    "            self.fc2 = nn.Linear(128, 64).cuda()\n",
    "            self.fc4 = nn.Linear(64, 10).cuda()\n",
    "            \n",
    "        def convs(self,x):\n",
    "            \n",
    "            x = self.pool(F.relu(self.conv1(x)))\n",
    "            x = self.pool(F.relu(self.conv2(x)))\n",
    "#             x = torch.flatten(x)\n",
    "            return x\n",
    "\n",
    "        def forward(self,x):\n",
    "            # relu = 0 or 1   _/``  <- relu  \n",
    "            \n",
    "            x = self.convs(x)\n",
    "#             print(x.size())\n",
    "            x = x.view(-1,16*5*5)\n",
    "             \n",
    "             \n",
    "            x = F.relu(self.fc1(x))\n",
    "            x = F.relu(self.fc2(x))\n",
    "            x = self.fc4(x)\n",
    "#             return F.sigmoid(x)\n",
    "            return F.softmax(x,dim=1)\n",
    "\n",
    "    \n",
    "    def __init__(self):\n",
    "        self.net = self.Net()\n",
    "        \n",
    "    def load(self):\n",
    "#             self.dataset = datasets.ImageFolder(self.path, transform=self.transform)\n",
    "            self.dataset = torchvision.datasets.CIFAR10(root='./data', train=True,\n",
    "                                                    download=True, transform=self.transform)\n",
    "            self.trainset = torch.utils.data.DataLoader(self.dataset, \n",
    "                                       batch_size=4,\n",
    "                                       shuffle=True,num_workers=2)\n",
    "         \n",
    "           \n",
    "    def forward(self,epochs=3):\n",
    "    \n",
    "    \n",
    "#         optimizer = optim.Adam(self.net.parameters(),lr=0.001)\n",
    "#         criterion = nn.BCELoss()\n",
    "        criterion = nn.CrossEntropyLoss()\n",
    "        optimizer = optim.SGD(self.net.parameters(), lr=0.01, momentum=0.9)\n",
    "        trainset = self.trainset \n",
    "        for epoch in tqdm(range(epochs)):\n",
    "            for data in trainset:\n",
    "                \n",
    "                    # x image data , y = label\n",
    "                    # in general x = input , y = answer\n",
    "                    x,y = data\n",
    "    #                 print(x.size(),y.size())\n",
    "    #                 print(x.view(-1,50*50).size())\n",
    "    #                 break\n",
    "                     \n",
    "                    self.net.zero_grad() \n",
    "#                     print(\"input:\",x.size())\n",
    "                    x,y = x.to(device),y.to(device)\n",
    "                    output = self.net.forward(x)\n",
    "#                     print(\"output:\",output,y)\n",
    "#                     loss = F.nll_loss(output,y)\n",
    "                    loss = criterion(output, y)\n",
    "                    loss.backward()\n",
    "                    optimizer.step()\n",
    "              \n",
    "            print(loss)\n",
    "            self.predict()\n",
    "    \n",
    "        \n",
    "    \n",
    "    def predict(self): # test\n",
    "        correct = 0\n",
    "        total = 0\n",
    "        trainset = self.trainset\n",
    "        co = 0\n",
    "        with torch.no_grad():\n",
    "            for data in trainset:\n",
    "                co+=1\n",
    "                if(co == 3000): \n",
    "                    break\n",
    "                x,y = data\n",
    "#                 x,y = x.to(device),y.to(device)\n",
    "               # print(\"input\",x.size())\n",
    "                output = self.net.forward(x)\n",
    "                for idx,i in enumerate(output):\n",
    "                    if torch.argmax(i) == y[idx]:\n",
    "                        correct += 1\n",
    "                    total += 1\n",
    "        print(\"Accuracy : \",round(correct/total,3)*100,\"%\")\n",
    "        return 0\n",
    "    \n",
    "    \n",
    "    \n",
    "            \n",
    "            "
   ]
  },
  {
   "cell_type": "code",
   "execution_count": 13,
   "metadata": {},
   "outputs": [
    {
     "name": "stdout",
     "output_type": "stream",
     "text": [
      "Files already downloaded and verified\n"
     ]
    }
   ],
   "source": [
    "anm = animals()\n",
    "anm.load()"
   ]
  },
  {
   "cell_type": "code",
   "execution_count": null,
   "metadata": {},
   "outputs": [
    {
     "name": "stderr",
     "output_type": "stream",
     "text": [
      "  0%|                                                                                            | 0/3 [00:00<?, ?it/s]"
     ]
    }
   ],
   "source": [
    "anm.forward(epochs=3) \n",
    "# torch.save(anm,'anm.pt')"
   ]
  },
  {
   "cell_type": "code",
   "execution_count": null,
   "metadata": {},
   "outputs": [],
   "source": []
  },
  {
   "cell_type": "code",
   "execution_count": null,
   "metadata": {},
   "outputs": [],
   "source": []
  }
 ],
 "metadata": {
  "kernelspec": {
   "display_name": "Tensorflow-GPU2",
   "language": "python",
   "name": "tf"
  },
  "language_info": {
   "codemirror_mode": {
    "name": "ipython",
    "version": 3
   },
   "file_extension": ".py",
   "mimetype": "text/x-python",
   "name": "python",
   "nbconvert_exporter": "python",
   "pygments_lexer": "ipython3",
   "version": "3.7.6"
  }
 },
 "nbformat": 4,
 "nbformat_minor": 4
}
