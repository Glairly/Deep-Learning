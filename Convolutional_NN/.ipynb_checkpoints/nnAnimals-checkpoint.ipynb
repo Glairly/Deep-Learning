{
 "cells": [
  {
   "cell_type": "code",
   "execution_count": 2,
   "metadata": {},
   "outputs": [
    {
     "data": {
      "text/plain": [
       "<module 'helper' from 'C:\\\\Users\\\\USER\\\\Desktop\\\\pyTorch\\\\helper.py'>"
      ]
     },
     "execution_count": 2,
     "metadata": {},
     "output_type": "execute_result"
    }
   ],
   "source": [
    "import torch\n",
    "import torchvision\n",
    "from torchvision import transforms ,datasets\n",
    "import helper\n",
    "import importlib\n",
    "importlib.reload(helper)"
   ]
  },
  {
   "cell_type": "code",
   "execution_count": 3,
   "metadata": {},
   "outputs": [
    {
     "name": "stdout",
     "output_type": "stream",
     "text": [
      "Running on the GPU\n"
     ]
    }
   ],
   "source": [
    "import matplotlib.pyplot as plt\n",
    "import torch.optim as optim\n",
    "import torch.nn as nn\n",
    "import torch.nn.functional as F\n",
    "from tqdm import tqdm\n",
    "\n",
    "\n",
    "\n",
    "if torch.cuda.is_available():\n",
    "    device = torch.device(\"cuda:0\")  # you can continue going on here, like cuda:1 cuda:2....etc. \n",
    "    print(\"Running on the GPU\")\n",
    "else:\n",
    "    device = torch.device(\"cpu\")\n",
    "    print(\"Running on the CPU\")\n",
    "\n",
    "\n",
    "class animals():\n",
    "    path = \"data\"\n",
    "    dataset = []\n",
    "    trainset = []\n",
    "    transform = transforms.Compose([\n",
    "#                                  transforms.Grayscale(),\n",
    "#                                 transforms.Resize((28,28)),\n",
    "                                transforms.ToTensor(),\n",
    "                                transforms.Normalize((0.5, 0.5, 0.5), (0.5, 0.5, 0.5)),\n",
    "                                   ])\n",
    "    class Net(nn.Module):\n",
    "    \n",
    "        def __init__(self):\n",
    "            super().__init__()\n",
    "            # fc = fully connected\n",
    "            self.conv1 = nn.Conv2d(3,6, 5).cuda()\n",
    "            self.conv2 = nn.Conv2d(6, 16, 5).cuda()\n",
    "        \n",
    "            self.pool = nn.MaxPool2d(2, 2).cuda()\n",
    "            \n",
    "            self.fc1 = nn.Linear(16*5*5, 120) .cuda()\n",
    "            self.fc2 = nn.Linear(120, 84).cuda()\n",
    "            self.fc4 = nn.Linear(84, 10).cuda()\n",
    "            \n",
    "        def convs(self,x):\n",
    "            \n",
    "            x = self.pool(F.relu(self.conv1(x)))\n",
    "            x = self.pool(F.relu(self.conv2(x)))\n",
    "#             x = torch.flatten(x)\n",
    "            return x\n",
    "\n",
    "        def forward(self,x):\n",
    "            # relu = 0 or 1   _/``  <- relu  \n",
    "            \n",
    "            x = self.convs(x)\n",
    "#             print(x.size())\n",
    "            x = x.view(-1,16*5*5)\n",
    "            \n",
    "            x = F.relu(self.fc1(x))\n",
    "            x = F.relu(self.fc2(x))\n",
    "            x = self.fc4(x)\n",
    "#             return F.sigmoid(x)\n",
    "#             return F.softmax(x,dim=1)\n",
    "            return x\n",
    "\n",
    "    \n",
    "    def __init__(self):\n",
    "        self.net = self.Net()\n",
    "        \n",
    "    def load(self):\n",
    "#             self.dataset = datasets.ImageFolder(self.path, transform=self.transform)\n",
    "            self.dataset = torchvision.datasets.CIFAR10(root='./cifar', train=True,\n",
    "                                                    download=True, transform=self.transform)\n",
    "            self.trainset = torch.utils.data.DataLoader(self.dataset, \n",
    "                                       batch_size=4,\n",
    "                                       shuffle=True,num_workers=2)\n",
    "         \n",
    "           \n",
    "    def forward(self,epochs=3):\n",
    "    \n",
    "    \n",
    "#         optimizer = optim.Adam(self.net.parameters(),lr=0.001)\n",
    "#         criterion = nn.BCELoss()\n",
    "        criterion = nn.CrossEntropyLoss()\n",
    "        optimizer = optim.SGD(self.net.parameters(), lr=0.001, momentum=0.9)\n",
    "        trainset = self.trainset \n",
    "        for epoch in tqdm(range(epochs)):\n",
    "            for data in trainset:\n",
    "                \n",
    "                    # x image data , y = label\n",
    "                    # in general x = input , y = answer\n",
    "                    x,y = data\n",
    "                    print(data)\n",
    "    #                 print(x.size(),y.size())\n",
    "    #                 print(x.view(-1,50*50).size())\n",
    "    #                 break\n",
    "                     \n",
    "                    self.net.zero_grad() \n",
    "#                     print(\"input:\",x.size())\n",
    "                    x,y = x.to(device),y.to(device)\n",
    "                    output = self.net.forward(x)\n",
    "#                     print(\"output:\",output,y)\n",
    "#                     loss = F.nll_loss(output,y)\n",
    "                    loss = criterion(output, y)\n",
    "                    loss.backward()\n",
    "                    optimizer.step()\n",
    "              \n",
    "            print(loss)\n",
    "            self.predict()\n",
    "    \n",
    "        \n",
    "    \n",
    "    def predict(self): # test\n",
    "        correct = 0\n",
    "        total = 0\n",
    "        trainset = self.trainset\n",
    "        co = 0\n",
    "        with torch.no_grad():\n",
    "            for data in trainset:\n",
    "                co+=1\n",
    "                if(co == 10): \n",
    "                    break\n",
    "                x,y = data\n",
    "                x,y = x.to(device),y.to(device)\n",
    "               # print(\"input\",x.size())\n",
    "                output = self.net.forward(x)\n",
    "               # print(output,y)\n",
    "                for idx,i in enumerate(output):\n",
    "                    if torch.argmax(i) == y[idx]:\n",
    "                        correct += 1\n",
    "                    total += 1\n",
    "        print(\"Accuracy : \",round(correct/total,3)*100,\"%\")\n",
    "        return 0\n",
    "    \n",
    "    \n",
    "    \n",
    "            \n",
    "            "
   ]
  },
  {
   "cell_type": "code",
   "execution_count": 10,
   "metadata": {},
   "outputs": [
    {
     "name": "stdout",
     "output_type": "stream",
     "text": [
      "Files already downloaded and verified\n"
     ]
    }
   ],
   "source": [
    "anm = animals()\n",
    "anm.load()"
   ]
  },
  {
   "cell_type": "code",
   "execution_count": 11,
   "metadata": {},
   "outputs": [
    {
     "name": "stderr",
     "output_type": "stream",
     "text": [
      "  0%|                                                                                           | 0/10 [00:00<?, ?it/s]"
     ]
    },
    {
     "name": "stdout",
     "output_type": "stream",
     "text": [
      "tensor(0.9294, device='cuda:0', grad_fn=<NllLossBackward>)\n"
     ]
    },
    {
     "name": "stderr",
     "output_type": "stream",
     "text": [
      " 10%|████████▏                                                                         | 1/10 [01:50<16:34, 110.52s/it]"
     ]
    },
    {
     "name": "stdout",
     "output_type": "stream",
     "text": [
      "Accuracy :  44.4 %\n",
      "tensor(2.6944, device='cuda:0', grad_fn=<NllLossBackward>)\n"
     ]
    },
    {
     "name": "stderr",
     "output_type": "stream",
     "text": [
      " 20%|████████████████▍                                                                 | 2/10 [03:55<15:18, 114.87s/it]"
     ]
    },
    {
     "name": "stdout",
     "output_type": "stream",
     "text": [
      "Accuracy :  44.4 %\n",
      "tensor(0.8849, device='cuda:0', grad_fn=<NllLossBackward>)\n"
     ]
    },
    {
     "name": "stderr",
     "output_type": "stream",
     "text": [
      " 30%|████████████████████████▌                                                         | 3/10 [06:00<13:46, 118.02s/it]"
     ]
    },
    {
     "name": "stdout",
     "output_type": "stream",
     "text": [
      "Accuracy :  52.800000000000004 %\n",
      "tensor(1.1092, device='cuda:0', grad_fn=<NllLossBackward>)\n"
     ]
    },
    {
     "name": "stderr",
     "output_type": "stream",
     "text": [
      " 40%|████████████████████████████████▊                                                 | 4/10 [07:57<11:45, 117.65s/it]"
     ]
    },
    {
     "name": "stdout",
     "output_type": "stream",
     "text": [
      "Accuracy :  55.60000000000001 %\n",
      "tensor(0.4658, device='cuda:0', grad_fn=<NllLossBackward>)\n"
     ]
    },
    {
     "name": "stderr",
     "output_type": "stream",
     "text": [
      " 50%|█████████████████████████████████████████                                         | 5/10 [10:02<09:59, 119.82s/it]"
     ]
    },
    {
     "name": "stdout",
     "output_type": "stream",
     "text": [
      "Accuracy :  72.2 %\n",
      "tensor(1.6214, device='cuda:0', grad_fn=<NllLossBackward>)\n"
     ]
    },
    {
     "name": "stderr",
     "output_type": "stream",
     "text": [
      " 60%|█████████████████████████████████████████████████▏                                | 6/10 [12:15<08:15, 123.78s/it]"
     ]
    },
    {
     "name": "stdout",
     "output_type": "stream",
     "text": [
      "Accuracy :  61.1 %\n",
      "tensor(1.1140, device='cuda:0', grad_fn=<NllLossBackward>)\n"
     ]
    },
    {
     "name": "stderr",
     "output_type": "stream",
     "text": [
      " 70%|█████████████████████████████████████████████████████████▍                        | 7/10 [14:27<06:18, 126.08s/it]"
     ]
    },
    {
     "name": "stdout",
     "output_type": "stream",
     "text": [
      "Accuracy :  55.60000000000001 %\n",
      "tensor(0.5666, device='cuda:0', grad_fn=<NllLossBackward>)\n"
     ]
    },
    {
     "name": "stderr",
     "output_type": "stream",
     "text": [
      " 80%|█████████████████████████████████████████████████████████████████▌                | 8/10 [16:26<04:07, 123.97s/it]"
     ]
    },
    {
     "name": "stdout",
     "output_type": "stream",
     "text": [
      "Accuracy :  66.7 %\n",
      "tensor(0.8710, device='cuda:0', grad_fn=<NllLossBackward>)\n"
     ]
    },
    {
     "name": "stderr",
     "output_type": "stream",
     "text": [
      " 90%|█████████████████████████████████████████████████████████████████████████▊        | 9/10 [18:19<02:00, 120.91s/it]"
     ]
    },
    {
     "name": "stdout",
     "output_type": "stream",
     "text": [
      "Accuracy :  61.1 %\n",
      "tensor(0.8160, device='cuda:0', grad_fn=<NllLossBackward>)\n"
     ]
    },
    {
     "name": "stderr",
     "output_type": "stream",
     "text": [
      "100%|█████████████████████████████████████████████████████████████████████████████████| 10/10 [20:12<00:00, 121.20s/it]"
     ]
    },
    {
     "name": "stdout",
     "output_type": "stream",
     "text": [
      "Accuracy :  86.1 %\n"
     ]
    },
    {
     "name": "stderr",
     "output_type": "stream",
     "text": [
      "\n"
     ]
    }
   ],
   "source": [
    "anm.forward(epochs=10) \n",
    "# torch.save(anm,'anm.pt')"
   ]
  },
  {
   "cell_type": "code",
   "execution_count": 12,
   "metadata": {},
   "outputs": [],
   "source": [
    "# PATH = './cifar_net.pth'\n",
    "# torch.save(anm.net.state_dict(), PATH)"
   ]
  },
  {
   "cell_type": "code",
   "execution_count": 47,
   "metadata": {},
   "outputs": [],
   "source": [
    "PATH = 'model/cifar_net.pth'\n",
    "testAnimal = animals()\n",
    "t = animals()\n",
    "testAnimal.net.load_state_dict(torch.load(PATH))\n",
    "classes = ('plane', 'car', 'bird', 'cat',\n",
    "           'deer', 'dog', 'frog', 'horse', 'ship', 'truck')"
   ]
  },
  {
   "cell_type": "code",
   "execution_count": 48,
   "metadata": {},
   "outputs": [
    {
     "name": "stdout",
     "output_type": "stream",
     "text": [
      "Files already downloaded and verified\n"
     ]
    }
   ],
   "source": [
    "t.load()"
   ]
  },
  {
   "cell_type": "code",
   "execution_count": 49,
   "metadata": {},
   "outputs": [],
   "source": [
    "testset = t.trainset"
   ]
  },
  {
   "cell_type": "code",
   "execution_count": 60,
   "metadata": {},
   "outputs": [],
   "source": [
    "def predict(x,sampleSize = 100):\n",
    "    correct = 0\n",
    "    total = 0\n",
    "    trainset = x\n",
    "    co = 0\n",
    "    net = testAnimal.net\n",
    "    with torch.no_grad():\n",
    "        for data in trainset:\n",
    "            \n",
    "            if(co == sampleSize): \n",
    "                break\n",
    "            co+=1\n",
    "            x,y = data\n",
    "            x,y = x.to(device),y.to(device)\n",
    "               # print(\"input\",x.size())\n",
    "            print(\"---:input:---\")\n",
    "            for img in x:\n",
    "                helper.imshow(img.to(torch.device(\"cpu\")))\n",
    "            for lb in y:\n",
    "                print(classes[lb])\n",
    "            output = net.forward(x)\n",
    "            print(\"---:output:---\")\n",
    "            for idx,i in enumerate(output):\n",
    "                argmax = torch.argmax(i)\n",
    "                print(classes[argmax])\n",
    "                if argmax == y[idx]:\n",
    "                    correct += 1\n",
    "                total += 1\n",
    "    print(\"Accuracy : \",round(correct/total,3)*100,\"%\")\n",
    "    return 0"
   ]
  },
  {
   "cell_type": "code",
   "execution_count": 61,
   "metadata": {},
   "outputs": [
    {
     "name": "stdout",
     "output_type": "stream",
     "text": [
      "---:input:---\n",
      "frog\n",
      "frog\n",
      "dog\n",
      "plane\n",
      "---:output:---\n",
      "frog\n",
      "frog\n",
      "dog\n",
      "truck\n",
      "Accuracy :  75.0 %\n"
     ]
    },
    {
     "data": {
      "text/plain": [
       "0"
      ]
     },
     "execution_count": 61,
     "metadata": {},
     "output_type": "execute_result"
    },
    {
     "data": {
      "image/png": "[encoded data removed]",
      "text/plain": [
       "<Figure size 432x288 with 1 Axes>"
      ]
     },
     "metadata": {
      "needs_background": "light"
     },
     "output_type": "display_data"
    },
    {
     "data": {
      "image/png": "[encoded data removed]",
      "text/plain": [
       "<Figure size 432x288 with 1 Axes>"
      ]
     },
     "metadata": {
      "needs_background": "light"
     },
     "output_type": "display_data"
    },
    {
     "data": {
      "image/png": "[encoded data removed]",
      "text/plain": [
       "<Figure size 432x288 with 1 Axes>"
      ]
     },
     "metadata": {
      "needs_background": "light"
     },
     "output_type": "display_data"
    },
    {
     "data": {
      "image/png": "[encoded data removed]",
      "text/plain": [
       "<Figure size 432x288 with 1 Axes>"
      ]
     },
     "metadata": {
      "needs_background": "light"
     },
     "output_type": "display_data"
    }
   ],
   "source": [
    "predict(testset,sampleSize = 1)"
   ]
  },
  {
   "cell_type": "code",
   "execution_count": null,
   "metadata": {},
   "outputs": [],
   "source": []
  }
 ],
 "metadata": {
  "kernelspec": {
   "display_name": "Tensorflow-GPU2",
   "language": "python",
   "name": "tf"
  },
  "language_info": {
   "codemirror_mode": {
    "name": "ipython",
    "version": 3
   },
   "file_extension": ".py",
   "mimetype": "text/x-python",
   "name": "python",
   "nbconvert_exporter": "python",
   "pygments_lexer": "ipython3",
   "version": "3.7.6"
  }
 },
 "nbformat": 4,
 "nbformat_minor": 4
}
