{
 "cells": [
  {
   "cell_type": "code",
   "execution_count": 1,
   "metadata": {},
   "outputs": [
    {
     "data": {
      "text/plain": [
       "<module 'helper' from 'C:\\\\Users\\\\USER\\\\Desktop\\\\pyTorch\\\\helper.py'>"
      ]
     },
     "execution_count": 1,
     "metadata": {},
     "output_type": "execute_result"
    }
   ],
   "source": [
    "import torch\n",
    "import torchvision\n",
    "from torchvision import transforms ,datasets\n",
    "import helper\n",
    "import importlib\n",
    "importlib.reload(helper)"
   ]
  },
  {
   "cell_type": "code",
   "execution_count": 14,
   "metadata": {},
   "outputs": [
    {
     "name": "stdout",
     "output_type": "stream",
     "text": [
      "Running on the GPU\n"
     ]
    }
   ],
   "source": [
    "import matplotlib.pyplot as plt\n",
    "import torch.optim as optim\n",
    "import torch.nn as nn\n",
    "import torch.nn.functional as F\n",
    "from tqdm import tqdm\n",
    "\n",
    "\n",
    "\n",
    "if torch.cuda.is_available():\n",
    "    device = torch.device(\"cuda:0\")  # you can continue going on here, like cuda:1 cuda:2....etc. \n",
    "    print(\"Running on the GPU\")\n",
    "else:\n",
    "    device = torch.device(\"cpu\")\n",
    "    print(\"Running on the CPU\")\n",
    "\n",
    "\n",
    "class animals():\n",
    "    path = \"data\"\n",
    "    dataset = []\n",
    "    trainset = []\n",
    "    transform = transforms.Compose([\n",
    "#                                  transforms.Grayscale(),\n",
    "                                transforms.Resize((50,50)),\n",
    "                                transforms.ToTensor(),\n",
    "                                transforms.Normalize((0.5, 0.5, 0.5), (0.5, 0.5, 0.5)),\n",
    "                                   ])\n",
    "    class Net(nn.Module):\n",
    "    \n",
    "        def __init__(self):\n",
    "            super().__init__()\n",
    "            # fc = fully connected\n",
    "            self.conv1 = nn.Conv2d(3,6, 5).cuda()\n",
    "            self.conv2 = nn.Conv2d(6, 16, 5).cuda()\n",
    "        \n",
    "            self.pool = nn.MaxPool2d(2, 2).cuda()\n",
    "            \n",
    "            self.fc1 = nn.Linear(16*9*9, 120) .cuda()  # must compute input size first\n",
    "            self.fc2 = nn.Linear(120, 84).cuda()\n",
    "            self.fc4 = nn.Linear(84, 2).cuda()\n",
    "            \n",
    "        def convs(self,x):\n",
    "            \n",
    "            x = self.pool(F.relu(self.conv1(x)))\n",
    "            x = self.pool(F.relu(self.conv2(x)))\n",
    "#             x = torch.flatten(x)\n",
    "            return x\n",
    "\n",
    "        def forward(self,x):\n",
    "            # relu = 0 or 1   _/``  <- relu  \n",
    "            \n",
    "            x = self.convs(x)\n",
    "#             print(x.size())   # compute fc1 size here   <-----------------\n",
    "            x = x.view(-1,16*9*9)\n",
    "            \n",
    "            x = F.relu(self.fc1(x))\n",
    "            x = F.relu(self.fc2(x))\n",
    "            x = self.fc4(x)\n",
    "#             return F.sigmoid(x)\n",
    "#             return F.softmax(x,dim=1)\n",
    "            return x\n",
    "\n",
    "    \n",
    "    def __init__(self):\n",
    "        self.net = self.Net()\n",
    "        \n",
    "    def load(self):\n",
    "            self.dataset = datasets.ImageFolder(self.path, transform=self.transform)\n",
    "#             self.dataset = torchvision.datasets.CIFAR10(root='./data', train=True,\n",
    "#                                                     download=True, transform=self.transform)\n",
    "            self.trainset = torch.utils.data.DataLoader(self.dataset, \n",
    "                                       batch_size=4,\n",
    "                                       shuffle=True,num_workers=2)\n",
    "         \n",
    "           \n",
    "    def forward(self,epochs=3):\n",
    "    \n",
    "    \n",
    "#         optimizer = optim.Adam(self.net.parameters(),lr=0.001)\n",
    "#         criterion = nn.BCELoss()\n",
    "        criterion = nn.CrossEntropyLoss()\n",
    "        optimizer = optim.SGD(self.net.parameters(), lr=0.001, momentum=0.9)\n",
    "        trainset = self.trainset \n",
    "        for epoch in tqdm(range(epochs)):\n",
    "            for data in trainset:\n",
    "                \n",
    "                    # x image data , y = label\n",
    "                    # in general x = input , y = answer\n",
    "                    x,y = data\n",
    "    #                 print(x.size(),y.size())\n",
    "    #                 print(x.view(-1,50*50).size())\n",
    "    #                 break\n",
    "                     \n",
    "                    self.net.zero_grad() \n",
    "#                     print(\"input:\",x.size())\n",
    "                    x,y = x.to(device),y.to(device)\n",
    "                    output = self.net.forward(x)\n",
    "#                     print(\"output:\",output,y)\n",
    "#                     loss = F.nll_loss(output,y)\n",
    "                    loss = criterion(output, y)\n",
    "                    loss.backward()\n",
    "                    optimizer.step()\n",
    "              \n",
    "            print(loss)\n",
    "            self.predict()\n",
    "    \n",
    "        \n",
    "    \n",
    "    def predict(self): # test\n",
    "        correct = 0\n",
    "        total = 0\n",
    "        trainset = self.trainset\n",
    "        co = 0\n",
    "        with torch.no_grad():\n",
    "            for data in trainset:\n",
    "                co+=1\n",
    "                if(co == 10): \n",
    "                    break\n",
    "                x,y = data\n",
    "                x,y = x.to(device),y.to(device)\n",
    "               # print(\"input\",x.size())\n",
    "                output = self.net.forward(x)\n",
    "               # print(output,y)\n",
    "                for idx,i in enumerate(output):\n",
    "                    if torch.argmax(i) == y[idx]:\n",
    "                        correct += 1\n",
    "                    total += 1\n",
    "        print(\"Accuracy : \",round(correct/total,3)*100,\"%\")\n",
    "        return 0\n",
    "    \n",
    "    \n",
    "    \n",
    "            \n",
    "            "
   ]
  },
  {
   "cell_type": "code",
   "execution_count": 15,
   "metadata": {},
   "outputs": [],
   "source": [
    "anm = animals()\n",
    "anm.load()"
   ]
  },
  {
   "cell_type": "code",
   "execution_count": 16,
   "metadata": {},
   "outputs": [
    {
     "name": "stderr",
     "output_type": "stream",
     "text": [
      "  0%|                                                                                           | 0/10 [00:00<?, ?it/s]"
     ]
    },
    {
     "name": "stdout",
     "output_type": "stream",
     "text": [
      "tensor(0.5115, device='cuda:0', grad_fn=<NllLossBackward>)\n"
     ]
    },
    {
     "name": "stderr",
     "output_type": "stream",
     "text": [
      " 10%|████████▎                                                                          | 1/10 [01:12<10:55, 72.82s/it]"
     ]
    },
    {
     "name": "stdout",
     "output_type": "stream",
     "text": [
      "Accuracy :  58.3 %\n",
      "tensor(0.3824, device='cuda:0', grad_fn=<NllLossBackward>)\n"
     ]
    },
    {
     "name": "stderr",
     "output_type": "stream",
     "text": [
      " 20%|████████████████▌                                                                  | 2/10 [02:20<09:29, 71.23s/it]"
     ]
    },
    {
     "name": "stdout",
     "output_type": "stream",
     "text": [
      "Accuracy :  55.60000000000001 %\n",
      "tensor(0.3003, device='cuda:0', grad_fn=<NllLossBackward>)\n"
     ]
    },
    {
     "name": "stderr",
     "output_type": "stream",
     "text": [
      " 30%|████████████████████████▉                                                          | 3/10 [03:22<07:59, 68.54s/it]"
     ]
    },
    {
     "name": "stdout",
     "output_type": "stream",
     "text": [
      "Accuracy :  77.8 %\n",
      "tensor(0.6398, device='cuda:0', grad_fn=<NllLossBackward>)\n"
     ]
    },
    {
     "name": "stderr",
     "output_type": "stream",
     "text": [
      " 40%|█████████████████████████████████▏                                                 | 4/10 [04:25<06:40, 66.72s/it]"
     ]
    },
    {
     "name": "stdout",
     "output_type": "stream",
     "text": [
      "Accuracy :  77.8 %\n",
      "tensor(0.2458, device='cuda:0', grad_fn=<NllLossBackward>)\n"
     ]
    },
    {
     "name": "stderr",
     "output_type": "stream",
     "text": [
      " 50%|█████████████████████████████████████████▌                                         | 5/10 [05:30<05:31, 66.27s/it]"
     ]
    },
    {
     "name": "stdout",
     "output_type": "stream",
     "text": [
      "Accuracy :  63.9 %\n",
      "tensor(0.1968, device='cuda:0', grad_fn=<NllLossBackward>)\n"
     ]
    },
    {
     "name": "stderr",
     "output_type": "stream",
     "text": [
      " 60%|█████████████████████████████████████████████████▊                                 | 6/10 [06:42<04:31, 67.91s/it]"
     ]
    },
    {
     "name": "stdout",
     "output_type": "stream",
     "text": [
      "Accuracy :  83.3 %\n",
      "tensor(0.1476, device='cuda:0', grad_fn=<NllLossBackward>)\n"
     ]
    },
    {
     "name": "stderr",
     "output_type": "stream",
     "text": [
      " 70%|██████████████████████████████████████████████████████████                         | 7/10 [07:47<03:21, 67.19s/it]"
     ]
    },
    {
     "name": "stdout",
     "output_type": "stream",
     "text": [
      "Accuracy :  86.1 %\n",
      "tensor(0.3605, device='cuda:0', grad_fn=<NllLossBackward>)\n"
     ]
    },
    {
     "name": "stderr",
     "output_type": "stream",
     "text": [
      " 80%|██████████████████████████████████████████████████████████████████▍                | 8/10 [08:56<02:15, 67.63s/it]"
     ]
    },
    {
     "name": "stdout",
     "output_type": "stream",
     "text": [
      "Accuracy :  91.7 %\n",
      "tensor(0.0377, device='cuda:0', grad_fn=<NllLossBackward>)\n"
     ]
    },
    {
     "name": "stderr",
     "output_type": "stream",
     "text": [
      " 90%|██████████████████████████████████████████████████████████████████████████▋        | 9/10 [10:05<01:08, 68.26s/it]"
     ]
    },
    {
     "name": "stdout",
     "output_type": "stream",
     "text": [
      "Accuracy :  94.39999999999999 %\n",
      "tensor(0.6554, device='cuda:0', grad_fn=<NllLossBackward>)\n"
     ]
    },
    {
     "name": "stderr",
     "output_type": "stream",
     "text": [
      "100%|██████████████████████████████████████████████████████████████████████████████████| 10/10 [11:18<00:00, 67.82s/it]"
     ]
    },
    {
     "name": "stdout",
     "output_type": "stream",
     "text": [
      "Accuracy :  97.2 %\n"
     ]
    },
    {
     "name": "stderr",
     "output_type": "stream",
     "text": [
      "\n"
     ]
    }
   ],
   "source": [
    "anm.forward(epochs=10) \n",
    "# torch.save(anm,'anm.pt')"
   ]
  },
  {
   "cell_type": "code",
   "execution_count": 17,
   "metadata": {},
   "outputs": [],
   "source": [
    "PATH = 'model/animal.pth'\n",
    "torch.save(anm.net.state_dict(), PATH)"
   ]
  },
  {
   "cell_type": "code",
   "execution_count": 18,
   "metadata": {},
   "outputs": [],
   "source": [
    "PATH = 'model/animal.pth'\n",
    "testAnimal = animals()\n",
    "t = animals()\n",
    "testAnimal.net.load_state_dict(torch.load(PATH))\n",
    "classes = ('cat','dog')"
   ]
  },
  {
   "cell_type": "code",
   "execution_count": 19,
   "metadata": {},
   "outputs": [],
   "source": [
    "t.load()"
   ]
  },
  {
   "cell_type": "code",
   "execution_count": 20,
   "metadata": {},
   "outputs": [],
   "source": [
    "testset = t.trainset"
   ]
  },
  {
   "cell_type": "code",
   "execution_count": 21,
   "metadata": {},
   "outputs": [],
   "source": [
    "def predict(x,sampleSize = 100):\n",
    "    correct = 0\n",
    "    total = 0\n",
    "    trainset = x\n",
    "    co = 0\n",
    "    net = testAnimal.net\n",
    "    with torch.no_grad():\n",
    "        for data in trainset:\n",
    "            \n",
    "            if(co == sampleSize): \n",
    "                break\n",
    "            co+=1\n",
    "            x,y = data\n",
    "            x,y = x.to(device),y.to(device)\n",
    "               # print(\"input\",x.size())\n",
    "            print(\"---:input:---\")\n",
    "            for img in x:\n",
    "                helper.imshow(img.to(torch.device(\"cpu\")))\n",
    "            for lb in y:\n",
    "                print(classes[lb])\n",
    "            output = net.forward(x)\n",
    "            print(\"---:output:---\")\n",
    "            for idx,i in enumerate(output):\n",
    "                argmax = torch.argmax(i)\n",
    "                print(classes[argmax])\n",
    "                if argmax == y[idx]:\n",
    "                    correct += 1\n",
    "                total += 1\n",
    "    print(\"Accuracy : \",round(correct/total,3)*100,\"%\")\n",
    "    return 0"
   ]
  },
  {
   "cell_type": "code",
   "execution_count": 22,
   "metadata": {},
   "outputs": [
    {
     "name": "stdout",
     "output_type": "stream",
     "text": [
      "---:input:---\n",
      "cat\n",
      "cat\n",
      "dog\n",
      "dog\n",
      "---:output:---\n",
      "cat\n",
      "cat\n",
      "dog\n",
      "dog\n",
      "Accuracy :  100.0 %\n"
     ]
    },
    {
     "data": {
      "text/plain": [
       "0"
      ]
     },
     "execution_count": 22,
     "metadata": {},
     "output_type": "execute_result"
    },
    {
     "data": {
      "image/png": "[encoded data removed]",
      "text/plain": [
       "<Figure size 432x288 with 1 Axes>"
      ]
     },
     "metadata": {
      "needs_background": "light"
     },
     "output_type": "display_data"
    },
    {
     "data": {
      "image/png": "[encoded data removed]",
      "text/plain": [
       "<Figure size 432x288 with 1 Axes>"
      ]
     },
     "metadata": {
      "needs_background": "light"
     },
     "output_type": "display_data"
    },
    {
     "data": {
      "image/png": "[encoded data removed]",
      "text/plain": [
       "<Figure size 432x288 with 1 Axes>"
      ]
     },
     "metadata": {
      "needs_background": "light"
     },
     "output_type": "display_data"
    },
    {
     "data": {
      "image/png": "[encoded data removed]",
      "text/plain": [
       "<Figure size 432x288 with 1 Axes>"
      ]
     },
     "metadata": {
      "needs_background": "light"
     },
     "output_type": "display_data"
    }
   ],
   "source": [
    "predict(testset,sampleSize = 1)"
   ]
  },
  {
   "cell_type": "code",
   "execution_count": null,
   "metadata": {},
   "outputs": [],
   "source": []
  }
 ],
 "metadata": {
  "kernelspec": {
   "display_name": "Tensorflow-GPU2",
   "language": "python",
   "name": "tf"
  },
  "language_info": {
   "codemirror_mode": {
    "name": "ipython",
    "version": 3
   },
   "file_extension": ".py",
   "mimetype": "text/x-python",
   "name": "python",
   "nbconvert_exporter": "python",
   "pygments_lexer": "ipython3",
   "version": "3.7.6"
  }
 },
 "nbformat": 4,
 "nbformat_minor": 4
}
