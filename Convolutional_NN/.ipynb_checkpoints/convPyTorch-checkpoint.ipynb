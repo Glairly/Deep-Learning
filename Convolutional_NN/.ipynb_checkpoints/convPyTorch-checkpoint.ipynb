{
 "cells": [
  {
   "cell_type": "code",
   "execution_count": 88,
   "metadata": {},
   "outputs": [
    {
     "name": "stderr",
     "output_type": "stream",
     "text": [
      "  0%|▎                                                                             | 41/12502 [00:00<00:30, 404.22it/s]"
     ]
    },
    {
     "name": "stdout",
     "output_type": "stream",
     "text": [
      "Running on the GPU\n"
     ]
    },
    {
     "name": "stderr",
     "output_type": "stream",
     "text": [
      "100%|███████████████████████████████████████████████████████████████████████████| 12502/12502 [00:23<00:00, 534.50it/s]\n",
      "100%|███████████████████████████████████████████████████████████████████████████| 12500/12500 [00:25<00:00, 491.10it/s]\n",
      "100%|███████████████████████████████████████████████████████████████████████████████| 665/665 [00:05<00:00, 114.32it/s]\n",
      "C:\\Users\\USER\\Anaconda3\\lib\\site-packages\\numpy\\core\\_asarray.py:136: VisibleDeprecationWarning: Creating an ndarray from ragged nested sequences (which is a list-or-tuple of lists-or-tuples-or ndarrays with different lengths or shapes) is deprecated. If you meant to do this, you must specify 'dtype=object' when creating the ndarray\n",
      "  return array(a, dtype, copy=False, order=order, subok=True)\n"
     ]
    }
   ],
   "source": [
    "import os\n",
    "import cv2\n",
    "import numpy as np\n",
    "from tqdm import tqdm\n",
    "import torch\n",
    "\n",
    "REBUILD_DATA = False\n",
    "\n",
    "if torch.cuda.is_available():\n",
    "    device = torch.device(\"cuda:0\")  # you can continue going on here, like cuda:1 cuda:2....etc. \n",
    "    print(\"Running on the GPU\")\n",
    "else:\n",
    "    device = torch.device(\"cpu\")\n",
    "    print(\"Running on the CPU\")\n",
    "\n",
    "class animals():\n",
    "    IMG_SIZE = 50\n",
    "    Cats = \"data/Cat\"\n",
    "    Dogs = \"data/Dog\"\n",
    "    Foxs = \"data/Fox\"\n",
    "    training_Data = []\n",
    "    Labels = {Cats : 0 , Dogs : 1,Foxs:2}\n",
    "    counter = {Cats : 0 , Dogs : 0,Foxs:0}    \n",
    "    \n",
    "    def importData(self):\n",
    "        for label in self.Labels:\n",
    "            for f in tqdm(os.listdir(label)):\n",
    "                try:\n",
    "                    path = os.path.join(label,f)\n",
    "                    img = cv2.imread(path,\n",
    "                                     cv2.IMREAD_GRAYSCALE)\n",
    "                    img = cv2.resize(img,\n",
    "                                     (self.IMG_SIZE,self.IMG_SIZE))\n",
    "                    self.training_Data.append([np.array(img), \n",
    "                                               np.eye(3)[self.Labels[label]]])\n",
    "                    if label == self.Cats:\n",
    "                        counter[\"Cats\"]+=1\n",
    "                    elif label == self.Dogs:\n",
    "                        counter[\"Dogs\"]+=1\n",
    "                    elif label == self.Foxs:\n",
    "                        counter[\"Foxs\"]+=1\n",
    "                    \n",
    "                except Exception as e :\n",
    "                    pass\n",
    "        \n",
    "        np.random.shuffle(self.training_Data)\n",
    "        np.save(\"training_Data.npy\",self.training_Data)\n",
    "                \n",
    "            \n",
    "if REBUILD_DATA:\n",
    "    animal = animals()\n",
    "    animal.importData()\n",
    "    "
   ]
  },
  {
   "cell_type": "code",
   "execution_count": 89,
   "metadata": {},
   "outputs": [],
   "source": [
    "training_Data = np.load(\"training_Data.npy\",allow_pickle=True)"
   ]
  },
  {
   "cell_type": "code",
   "execution_count": 90,
   "metadata": {},
   "outputs": [
    {
     "data": {
      "text/plain": [
       "25611"
      ]
     },
     "execution_count": 90,
     "metadata": {},
     "output_type": "execute_result"
    }
   ],
   "source": [
    "len(training_Data)"
   ]
  },
  {
   "cell_type": "code",
   "execution_count": 91,
   "metadata": {},
   "outputs": [
    {
     "data": {
      "text/plain": [
       "array([0., 1., 0.])"
      ]
     },
     "execution_count": 91,
     "metadata": {},
     "output_type": "execute_result"
    }
   ],
   "source": [
    "training_Data[0][1]"
   ]
  },
  {
   "cell_type": "code",
   "execution_count": 92,
   "metadata": {},
   "outputs": [],
   "source": [
    " \n",
    "import torch.nn as nn\n",
    "import torch.nn.functional as F\n",
    "\n",
    "class Net(nn.Module):\n",
    "    def __init__(self):\n",
    "        super().__init__()\n",
    "        # Conv2d(input,features,size)\n",
    "        self.conv1 = nn.Conv2d(1,32,5)\n",
    "        self.conv2 = nn.Conv2d(32,64,5)\n",
    "        self.conv3 = nn.Conv2d(64,128,5)\n",
    "        self.fc1 = nn.Linear(51200,512)\n",
    "        self.fc2 = nn.Linear(512,3)\n",
    "    \n",
    "    def convs(self,x):\n",
    "        \n",
    "        x =  F.max_pool2d(F.relu(self.conv1(x)),(2,2))\n",
    "        x =  F.max_pool2d(F.relu(self.conv2(x)),(2,2))\n",
    "        x =  F.max_pool2d(F.relu(self.conv3(x)),(2,2))\n",
    "    \n",
    "        return F.softmax(x,dim=1) \n",
    "    \n",
    "    def forward(self,x):\n",
    "        try : \n",
    "            x = self.convs(x)\n",
    "            # flatten\n",
    "\n",
    "            x = torch.flatten(x)\n",
    "            self.fc1 = nn.Linear(x.size()[0],512)\n",
    "            x = F.relu(self.fc1(x))\n",
    "            x = self.fc2(x)\n",
    "            return x\n",
    "        except Exception as e:\n",
    "            print(e)\n",
    "            return e\n",
    "        \n",
    "net = Net()     "
   ]
  },
  {
   "cell_type": "code",
   "execution_count": 93,
   "metadata": {},
   "outputs": [],
   "source": [
    "import torch.optim as optim\n",
    "\n",
    "optimizer = optim.Adam(net.parameters(),lr=0.001)\n",
    "loss_function = nn.MSELoss()\n",
    "\n",
    "x = torch.Tensor([i[0] for i in training_Data]).view(-1,50,50)\n",
    "x = x/255.0\n",
    "y = torch.Tensor([i[1] for i in training_Data])\n",
    "    \n",
    "VAL_PCT = 0.1\n",
    "val_size = int(len(x)*VAL_PCT)\n"
   ]
  },
  {
   "cell_type": "code",
   "execution_count": 94,
   "metadata": {},
   "outputs": [],
   "source": [
    "train_x = x[:-val_size]\n",
    "train_y = y[:-val_size]\n",
    "\n",
    "test_x = x[-val_size:]\n",
    "test_y = y[-val_size:]"
   ]
  },
  {
   "cell_type": "code",
   "execution_count": 95,
   "metadata": {},
   "outputs": [
    {
     "name": "stderr",
     "output_type": "stream",
     "text": [
      "  0%|                                                                                          | 0/231 [00:00<?, ?it/s]C:\\Users\\USER\\Anaconda3\\lib\\site-packages\\torch\\nn\\modules\\loss.py:432: UserWarning: Using a target size (torch.Size([100, 3])) that is different to the input size (torch.Size([3])). This will likely lead to incorrect results due to broadcasting. Please ensure they have the same size.\n",
      "  return F.mse_loss(input, target, reduction=self.reduction)\n",
      "100%|███████████████████████████████████████████████████████████████████████████████▋| 230/231 [03:00<00:00,  1.20it/s]C:\\Users\\USER\\Anaconda3\\lib\\site-packages\\torch\\nn\\modules\\loss.py:432: UserWarning: Using a target size (torch.Size([50, 3])) that is different to the input size (torch.Size([3])). This will likely lead to incorrect results due to broadcasting. Please ensure they have the same size.\n",
      "  return F.mse_loss(input, target, reduction=self.reduction)\n",
      "100%|████████████████████████████████████████████████████████████████████████████████| 231/231 [03:01<00:00,  1.27it/s]"
     ]
    },
    {
     "name": "stdout",
     "output_type": "stream",
     "text": [
      "tensor(0.1738, grad_fn=<MseLossBackward>)\n"
     ]
    },
    {
     "name": "stderr",
     "output_type": "stream",
     "text": [
      "\n"
     ]
    }
   ],
   "source": [
    "BATCH_SIZE = 100\n",
    "EPOCHS = 1\n",
    "\n",
    "for epoch in range(EPOCHS):\n",
    "    for i in tqdm(range(0,len(train_x),BATCH_SIZE)):\n",
    "        try:\n",
    "            batch_x = train_x[i:i+BATCH_SIZE].view(-1,1,50,50)\n",
    "            batch_y = train_y[i:i+BATCH_SIZE]\n",
    "            net.zero_grad()\n",
    "            outputs = net.forward(batch_x)\n",
    "            loss = loss_function(outputs,batch_y)\n",
    "            loss.backward()\n",
    "            optimizer.step()\n",
    "        except Exception as e:\n",
    "            pass\n",
    "print(loss)"
   ]
  },
  {
   "cell_type": "code",
   "execution_count": null,
   "metadata": {},
   "outputs": [
    {
     "name": "stderr",
     "output_type": "stream",
     "text": [
      " 42%|████████████████████████████████▌                                            | 1082/2561 [00:05<00:07, 202.89it/s]"
     ]
    }
   ],
   "source": [
    "correct = 0\n",
    "total = 0\n",
    "with torch.no_grad():\n",
    "    for i in tqdm(range(len(test_x))):\n",
    "        try:\n",
    "            real_class = torch.argmax(test_y[i])\n",
    "            net_out = net.forward(test_x[i].view(-1,1,50,50))\n",
    "            \n",
    "            predicted_class = torch.argmax(net_out)\n",
    " \n",
    "            if predicted_class == real_class:\n",
    "                correct += 1\n",
    "            total += 1\n",
    "            \n",
    "        except Exception as e:\n",
    "            print(str(e))\n",
    "            break\n",
    "\n",
    "print(\"Accuracy:\",round(correct/total,3))\n"
   ]
  },
  {
   "cell_type": "code",
   "execution_count": null,
   "metadata": {},
   "outputs": [],
   "source": []
  }
 ],
 "metadata": {
  "kernelspec": {
   "display_name": "Python 3",
   "language": "python",
   "name": "python3"
  },
  "language_info": {
   "codemirror_mode": {
    "name": "ipython",
    "version": 3
   },
   "file_extension": ".py",
   "mimetype": "text/x-python",
   "name": "python",
   "nbconvert_exporter": "python",
   "pygments_lexer": "ipython3",
   "version": "3.7.7"
  }
 },
 "nbformat": 4,
 "nbformat_minor": 4
}
